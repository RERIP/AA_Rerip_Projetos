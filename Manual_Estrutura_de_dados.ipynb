{
 "cells": [
  {
   "cell_type": "markdown",
   "metadata": {},
   "source": [
    "# Tudo Sobre Listas em Python com Exemplos do Mundo Real"
   ]
  },
  {
   "cell_type": "markdown",
   "metadata": {},
   "source": [
    "## 1. Fundamentos das Listas"
   ]
  },
  {
   "cell_type": "code",
   "execution_count": 67,
   "metadata": {},
   "outputs": [
    {
     "name": "stdout",
     "output_type": "stream",
     "text": [
      "['Arroz', 'Feijão', 'Leite', 'Ovos']\n"
     ]
    }
   ],
   "source": [
    "# 📌 Declarando Listas (00_declarando_listas.py)\n",
    "# Exemplo: Uma lista de compras do supermercado\n",
    "lista_compras = [\"Arroz\", \"Feijão\", \"Leite\", \"Ovos\"]\n",
    "print(lista_compras)  # [\"Arroz\", \"Feijão\", \"Leite\", \"Ovos\"]"
   ]
  },
  {
   "cell_type": "code",
   "execution_count": 68,
   "metadata": {},
   "outputs": [
    {
     "name": "stdout",
     "output_type": "stream",
     "text": [
      "SBT\n"
     ]
    }
   ],
   "source": [
    "# 📌 Acesso Direto aos Elementos (01_acesso_direto.py)\n",
    "# Exemplo: Escolhendo um canal de TV pelo número\n",
    "canais_tv = [\"Globo\", \"SBT\", \"Record\", \"Band\"]\n",
    "print(canais_tv[1])  # \"SBT\""
   ]
  },
  {
   "cell_type": "code",
   "execution_count": 69,
   "metadata": {},
   "outputs": [
    {
     "name": "stdout",
     "output_type": "stream",
     "text": [
      "Blues\n"
     ]
    }
   ],
   "source": [
    "# 📌 Índices Negativos (02_indices_negativos.py)\n",
    "# Exemplo: Pegando a última música tocada no Spotify\n",
    "playlist = [\"Rock\", \"Pop\", \"Jazz\", \"Blues\"]\n",
    "print(playlist[-1])  # \"Blues\""
   ]
  },
  {
   "cell_type": "markdown",
   "metadata": {},
   "source": [
    "## 2. Manipulação de Listas"
   ]
  },
  {
   "cell_type": "code",
   "execution_count": 70,
   "metadata": {},
   "outputs": [
    {
     "name": "stdout",
     "output_type": "stream",
     "text": [
      "08:00\n"
     ]
    }
   ],
   "source": [
    "# 📌 Matriz (Listas dentro de listas) (03_matriz.py)\n",
    "# Exemplo: Uma tabela de horários de ônibus\n",
    "horarios_onibus = [[\"06:00\", \"07:00\"], [\"08:00\", \"09:00\"], [\"10:00\", \"11:00\"]]\n",
    "print(horarios_onibus[1][0])  # \"08:00\""
   ]
  },
  {
   "cell_type": "code",
   "execution_count": 71,
   "metadata": {},
   "outputs": [
    {
     "name": "stdout",
     "output_type": "stream",
     "text": [
      "['Seg', 'Ter', 'Qua', 'Qui', 'Sex']\n"
     ]
    }
   ],
   "source": [
    "# 📌 Fatiamento de Listas (04_fatiamento.py)\n",
    "# Exemplo: Pegando os dias úteis da semana\n",
    "semana = [\"Dom\", \"Seg\", \"Ter\", \"Qua\", \"Qui\", \"Sex\", \"Sáb\"]\n",
    "dias_uteis = semana[1:6]\n",
    "print(dias_uteis)  # [\"Seg\", \"Ter\", \"Qua\", \"Qui\", \"Sex\"]"
   ]
  },
  {
   "cell_type": "code",
   "execution_count": 72,
   "metadata": {},
   "outputs": [
    {
     "name": "stdout",
     "output_type": "stream",
     "text": [
      "Ligando para Ana...\n",
      "Ligando para Bruno...\n",
      "Ligando para Carlos...\n"
     ]
    }
   ],
   "source": [
    "# 📌 Iterando sobre Listas (05_iterar_listas.py)\n",
    "# Exemplo: Passando pelos contatos da agenda\n",
    "contatos = [\"Ana\", \"Bruno\", \"Carlos\"]\n",
    "for contato in contatos:\n",
    "    print(f\"Ligando para {contato}...\")"
   ]
  },
  {
   "cell_type": "markdown",
   "metadata": {},
   "source": [
    "## 3. Métodos Importantes para Listas"
   ]
  },
  {
   "cell_type": "code",
   "execution_count": 73,
   "metadata": {},
   "outputs": [
    {
     "name": "stdout",
     "output_type": "stream",
     "text": [
      "[2.0, 4.0, 6.0]\n"
     ]
    }
   ],
   "source": [
    "# 📌 Compreensão de Listas (06_compreensao_de_listas.py)\n",
    "# Exemplo: Convertendo preços de reais para dólares (supondo R$1 = $0.2)\n",
    "precos_reais = [10, 20, 30]\n",
    "precos_dolares = [preco * 0.2 for preco in precos_reais]\n",
    "print(precos_dolares)  # [2.0, 4.0, 6.0]"
   ]
  },
  {
   "cell_type": "code",
   "execution_count": 74,
   "metadata": {},
   "outputs": [
    {
     "name": "stdout",
     "output_type": "stream",
     "text": [
      "['João', 'Maria', 'Pedro', 'Paula', 'Carlos']\n"
     ]
    }
   ],
   "source": [
    "# 📌 Adicionar elementos (07_append.py, 11_extend.py)\n",
    "# Exemplo: Adicionando amigos ao grupo do WhatsApp\n",
    "grupo_whatsapp = [\"João\", \"Maria\"]\n",
    "grupo_whatsapp.append(\"Pedro\")  # Adiciona um único amigo\n",
    "grupo_whatsapp.extend([\"Paula\", \"Carlos\"])  # Adiciona vários amigos\n",
    "print(grupo_whatsapp)"
   ]
  },
  {
   "cell_type": "code",
   "execution_count": 75,
   "metadata": {},
   "outputs": [
    {
     "name": "stdout",
     "output_type": "stream",
     "text": [
      "['Ir ao mercado']\n"
     ]
    }
   ],
   "source": [
    "# 📌 Remover elementos (08_clear.py, 13_pop.py, 14_remove.py)\n",
    "# Exemplo: Removendo tarefas concluídas de uma lista de afazeres\n",
    "afazeres = [\"Lavar roupa\", \"Estudar\", \"Ir ao mercado\"]\n",
    "afazeres.remove(\"Estudar\")  # Remove pelo valor\n",
    "tarefa_concluida = afazeres.pop(0)  # Remove pelo índice\n",
    "print(afazeres)"
   ]
  },
  {
   "cell_type": "code",
   "execution_count": 76,
   "metadata": {},
   "outputs": [
    {
     "name": "stdout",
     "output_type": "stream",
     "text": [
      "['Pizza', 'Hambúrguer', 'Sushi']\n",
      "['Pizza', 'Hambúrguer', 'Sushi', 'Salada']\n"
     ]
    }
   ],
   "source": [
    "# 📌 Cópia de Listas (09_copy.py)\n",
    "# Exemplo: Cópia de um cardápio para um novo restaurante\n",
    "cardapio_original = [\"Pizza\", \"Hambúrguer\", \"Sushi\"]\n",
    "cardapio_novo = cardapio_original.copy()\n",
    "cardapio_novo.append(\"Salada\")\n",
    "print(cardapio_original)  # [\"Pizza\", \"Hambúrguer\", \"Sushi\"]\n",
    "print(cardapio_novo)  # [\"Pizza\", \"Hambúrguer\", \"Sushi\", \"Salada\"]"
   ]
  },
  {
   "cell_type": "code",
   "execution_count": 77,
   "metadata": {},
   "outputs": [
    {
     "name": "stdout",
     "output_type": "stream",
     "text": [
      "[5, 6, 8, 9]\n"
     ]
    }
   ],
   "source": [
    "# 📌 Ordenação (16_sort.py, 18_sorted.py)\n",
    "# Exemplo: Ordenando notas de alunos\n",
    "notas = [8, 5, 9, 6]\n",
    "notas.sort()  # Modifica a própria lista\n",
    "print(notas)  # [5, 6, 8, 9]"
   ]
  },
  {
   "cell_type": "code",
   "execution_count": 78,
   "metadata": {},
   "outputs": [
    {
     "name": "stdout",
     "output_type": "stream",
     "text": [
      "[9, 8, 6, 5]\n"
     ]
    }
   ],
   "source": [
    "# Usando sorted() para não modificar a original\n",
    "notas_ordenadas = sorted(notas, reverse=True)\n",
    "print(notas_ordenadas)  # [9, 8, 6, 5]"
   ]
  },
  {
   "cell_type": "markdown",
   "metadata": {},
   "source": [
    "## 5. Informação Sobre a Lista"
   ]
  },
  {
   "cell_type": "markdown",
   "metadata": {},
   "source": [
    "# 📌 Tamanho da lista (17_len.py)"
   ]
  },
  {
   "cell_type": "code",
   "execution_count": 79,
   "metadata": {},
   "outputs": [
    {
     "name": "stdout",
     "output_type": "stream",
     "text": [
      "3\n"
     ]
    }
   ],
   "source": [
    "\n",
    "# Exemplo: Contando quantos e-mails estão na caixa de entrada\n",
    "emails = [\"email1\", \"email2\", \"email3\"]\n",
    "print(len(emails))  # 3"
   ]
  },
  {
   "cell_type": "markdown",
   "metadata": {},
   "source": [
    "# Tudo Sobre Tuplas em Python com Exemplos do Mundo Real"
   ]
  },
  {
   "cell_type": "code",
   "execution_count": 80,
   "metadata": {},
   "outputs": [
    {
     "name": "stdout",
     "output_type": "stream",
     "text": [
      "(1, 2, 3)\n",
      "RG de Renato: 123456789\n"
     ]
    }
   ],
   "source": [
    "# 📌 00_declarando_tuplas.py\n",
    "# Tuplas são como contratos: depois de assinados, não podem ser alterados.\n",
    "tupla_vazia = ()\n",
    "tupla_simples = (1, 2, 3)\n",
    "tupla_mista = (\"Python\", 3.14, True)\n",
    "tupla_um_elemento = (42,)  # Precisa da vírgula!\n",
    "\n",
    "print(tupla_simples)  # (1, 2, 3)\n",
    "\n",
    "# Exemplo da vida real:\n",
    "# Uma tupla pode representar um RG ou CPF, que não muda depois de criado.\n",
    "rg = (\"Renato\", \"123456789\")\n",
    "print(f\"RG de {rg[0]}: {rg[1]}\")"
   ]
  },
  {
   "cell_type": "code",
   "execution_count": 81,
   "metadata": {},
   "outputs": [
    {
     "name": "stdout",
     "output_type": "stream",
     "text": [
      "maçã\n",
      "A camisa 10 é do Messi\n"
     ]
    }
   ],
   "source": [
    "# 📌 01_acesso_direto.py\n",
    "# Acessando elementos da tupla\n",
    "tupla = (\"maçã\", \"banana\", \"cereja\")\n",
    "print(tupla[0])  # \"maçã\"\n",
    "\n",
    "# Exemplo da vida real:\n",
    "# Tuplas são como números de camisa de um time de futebol, sempre fixos.\n",
    "camisas = (\"Messi\", \"Cristiano\", \"Neymar\")\n",
    "print(f\"A camisa 10 é do {camisas[0]}\")"
   ]
  },
  {
   "cell_type": "code",
   "execution_count": 82,
   "metadata": {},
   "outputs": [
    {
     "name": "stdout",
     "output_type": "stream",
     "text": [
      "cereja\n",
      "Último dia das férias: sexta\n"
     ]
    }
   ],
   "source": [
    "# 📌 03_indices_negativos.py\n",
    "# Índices negativos acessam elementos de trás para frente\n",
    "print(tupla[-1])  # \"cereja\"\n",
    "\n",
    "# Exemplo da vida real:\n",
    "# Como contar os últimos dias das férias:\n",
    "ferias = (\"segunda\", \"terça\", \"quarta\", \"quinta\", \"sexta\")\n",
    "print(f\"Último dia das férias: {ferias[-1]}\")"
   ]
  },
  {
   "cell_type": "code",
   "execution_count": 83,
   "metadata": {},
   "outputs": [
    {
     "name": "stdout",
     "output_type": "stream",
     "text": [
      "6\n",
      "O rei está na posição [2][0]: rei\n"
     ]
    }
   ],
   "source": [
    "# 📌 04_matriz.py\n",
    "# Tuplas dentro de tuplas (Matrizes)\n",
    "matriz = (\n",
    "    (1, 2, 3),\n",
    "    (4, 5, 6),\n",
    "    (7, 8, 9)\n",
    ")\n",
    "print(matriz[1][2])  # 6\n",
    "\n",
    "# Exemplo da vida real:\n",
    "# Matriz como um tabuleiro de xadrez:\n",
    "xadrez = (\n",
    "    (\"torre\", \"cavalo\", \"bispo\"),\n",
    "    (\"peão\", \"peão\", \"peão\"),\n",
    "    (\"rei\", \"rainha\", \"bispo\")\n",
    ")\n",
    "print(f\"O rei está na posição [2][0]: {xadrez[2][0]}\")"
   ]
  },
  {
   "cell_type": "code",
   "execution_count": 84,
   "metadata": {},
   "outputs": [
    {
     "name": "stdout",
     "output_type": "stream",
     "text": [
      "(1, 2, 3)\n",
      "Trimestre: ('Janeiro', 'Fevereiro', 'Março')\n"
     ]
    }
   ],
   "source": [
    "# 📌 05_fatiamento.py\n",
    "# Pegando partes da tupla\n",
    "tupla = (0, 1, 2, 3, 4, 5)\n",
    "print(tupla[1:4])  # (1, 2, 3)\n",
    "\n",
    "# Exemplo da vida real:\n",
    "# Pegando os primeiros 3 meses do ano:\n",
    "meses = (\"Janeiro\", \"Fevereiro\", \"Março\", \"Abril\", \"Maio\")\n",
    "print(f\"Trimestre: {meses[:3]}\")  # ('Janeiro', 'Fevereiro', 'Março')"
   ]
  },
  {
   "cell_type": "code",
   "execution_count": 85,
   "metadata": {},
   "outputs": [
    {
     "name": "stdout",
     "output_type": "stream",
     "text": [
      "maçã\n",
      "banana\n",
      "cereja\n",
      "Chamando o passageiro João\n",
      "Chamando o passageiro Maria\n",
      "Chamando o passageiro Carlos\n"
     ]
    }
   ],
   "source": [
    "# 📌 06_iterar_tuplas.py\n",
    "# Percorrendo uma tupla\n",
    "frutas = (\"maçã\", \"banana\", \"cereja\")\n",
    "for fruta in frutas:\n",
    "    print(fruta)\n",
    "\n",
    "# Exemplo da vida real:\n",
    "# Percorrendo uma tupla de passageiros de um voo:\n",
    "passageiros = (\"João\", \"Maria\", \"Carlos\")\n",
    "for passageiro in passageiros:\n",
    "    print(f\"Chamando o passageiro {passageiro}\")"
   ]
  },
  {
   "cell_type": "code",
   "execution_count": 86,
   "metadata": {},
   "outputs": [
    {
     "name": "stdout",
     "output_type": "stream",
     "text": [
      "3\n",
      "A letra 'a' aparece 2 vezes.\n"
     ]
    }
   ],
   "source": [
    "# 📌 07_count.py\n",
    "# Contando quantas vezes um valor aparece na tupla\n",
    "tupla = (1, 2, 2, 3, 2, 4)\n",
    "print(tupla.count(2))  # 3\n",
    "\n",
    "# Exemplo da vida real:\n",
    "# Quantas vezes a letra \"a\" aparece no nome \"Amanda\"?\n",
    "nome = tuple(\"Amanda\")\n",
    "print(f\"A letra 'a' aparece {nome.count('a')} vezes.\")"
   ]
  },
  {
   "cell_type": "code",
   "execution_count": 87,
   "metadata": {},
   "outputs": [
    {
     "name": "stdout",
     "output_type": "stream",
     "text": [
      "2\n",
      "Carlos está na posição 2\n"
     ]
    }
   ],
   "source": [
    "# 📌 08_index.py\n",
    "# Encontrando a posição de um elemento\n",
    "tupla = (\"a\", \"b\", \"c\", \"d\")\n",
    "print(tupla.index(\"c\"))  # 2\n",
    "\n",
    "# Exemplo da vida real:\n",
    "# Descobrindo em que posição um aluno está na lista de chamada:\n",
    "chamada = (\"Ana\", \"Bruno\", \"Carlos\")\n",
    "print(f\"Carlos está na posição {chamada.index('Carlos')}\")"
   ]
  },
  {
   "cell_type": "code",
   "execution_count": 88,
   "metadata": {},
   "outputs": [
    {
     "name": "stdout",
     "output_type": "stream",
     "text": [
      "4\n",
      "O ano tem 12 meses.\n"
     ]
    }
   ],
   "source": [
    "# 📌 09_len.py\n",
    "# Descobrindo o tamanho da tupla\n",
    "print(len(tupla))  # 4\n",
    "\n",
    "# Exemplo da vida real:\n",
    "# Quantos meses tem o ano?\n",
    "meses = (\"Jan\", \"Fev\", \"Mar\", \"Abr\", \"Mai\", \"Jun\", \"Jul\", \"Ago\", \"Set\", \"Out\", \"Nov\", \"Dez\")\n",
    "print(f\"O ano tem {len(meses)} meses.\")"
   ]
  },
  {
   "cell_type": "markdown",
   "metadata": {},
   "source": [
    "# 00_declarando_conjuntos.py"
   ]
  },
  {
   "cell_type": "code",
   "execution_count": 93,
   "metadata": {},
   "outputs": [
    {
     "name": "stdout",
     "output_type": "stream",
     "text": [
      "{'João', 'Pedro', 'Ana', 'Maria'}\n"
     ]
    }
   ],
   "source": [
    "# Conjuntos são coleções não ordenadas de elementos únicos\n",
    "# Exemplo: Alunos matriculados em um curso\n",
    "\n",
    "alunos = {\"Maria\", \"João\", \"Pedro\", \"Ana\"}\n",
    "alunos_vazio = set()  # conjunto vazio\n",
    "\n",
    "print(alunos)  # {'Maria', 'João', 'Pedro', 'Ana'}"
   ]
  },
  {
   "cell_type": "code",
   "execution_count": 90,
   "metadata": {},
   "outputs": [
    {
     "name": "stdout",
     "output_type": "stream",
     "text": [
      "Maria está matriculada\n"
     ]
    }
   ],
   "source": [
    "# 01_acessando_dados.py\n",
    "# Conjuntos não permitem acesso por índice, apenas verificação de pertencimento\n",
    "# Exemplo: Verificar se um aluno está matriculado\n",
    "\n",
    "alunos = {\"Maria\", \"João\", \"Pedro\", \"Ana\"}\n",
    "if \"Maria\" in alunos:\n",
    "    print(\"Maria está matriculada\")"
   ]
  },
  {
   "cell_type": "code",
   "execution_count": 94,
   "metadata": {},
   "outputs": [
    {
     "ename": "NameError",
     "evalue": "name 'conjunto_numeros' is not defined",
     "output_type": "error",
     "traceback": [
      "\u001b[1;31m---------------------------------------------------------------------------\u001b[0m",
      "\u001b[1;31mNameError\u001b[0m                                 Traceback (most recent call last)",
      "Cell \u001b[1;32mIn[94], line 3\u001b[0m\n\u001b[0;32m      1\u001b[0m \u001b[38;5;66;03m# 📌 02_iterar_conjuntos.py\u001b[39;00m\n\u001b[0;32m      2\u001b[0m \u001b[38;5;66;03m# Percorrendo um conjunto\u001b[39;00m\n\u001b[1;32m----> 3\u001b[0m \u001b[38;5;28;01mfor\u001b[39;00m numero \u001b[38;5;129;01min\u001b[39;00m \u001b[43mconjunto_numeros\u001b[49m:\n\u001b[0;32m      4\u001b[0m     \u001b[38;5;28mprint\u001b[39m(numero)\n\u001b[0;32m      6\u001b[0m \u001b[38;5;66;03m# Exemplo da vida real:\u001b[39;00m\n\u001b[0;32m      7\u001b[0m \u001b[38;5;66;03m# Chamando os ganhadores de uma rifa:\u001b[39;00m\n",
      "\u001b[1;31mNameError\u001b[0m: name 'conjunto_numeros' is not defined"
     ]
    }
   ],
   "source": [
    "# 📌 02_iterar_conjuntos.py\n",
    "# Percorrendo um conjunto\n",
    "for numero in conjunto_numeros:\n",
    "    print(numero)\n",
    "\n",
    "# Exemplo da vida real:\n",
    "# Chamando os ganhadores de uma rifa:\n",
    "ganhadores = {\"Alice\", \"Bob\", \"Charlie\"}\n",
    "for ganhador in ganhadores:\n",
    "    print(f\"Parabéns, {ganhador}!\")"
   ]
  },
  {
   "cell_type": "code",
   "execution_count": null,
   "metadata": {},
   "outputs": [
    {
     "name": "stdout",
     "output_type": "stream",
     "text": [
      "Presente: Ana\n",
      "Presente: Maria\n",
      "Presente: João\n",
      "Presente: Pedro\n"
     ]
    }
   ],
   "source": [
    "# 02_iterar_conjuntos.py\n",
    "# Percorrer todos os elementos do conjunto\n",
    "# Exemplo: Fazer chamada dos alunos\n",
    "\n",
    "alunos = {\"Maria\", \"João\", \"Pedro\", \"Ana\"}\n",
    "for aluno in alunos:\n",
    "    print(f\"Presente: {aluno}\")"
   ]
  },
  {
   "cell_type": "code",
   "execution_count": null,
   "metadata": {},
   "outputs": [
    {
     "name": "stdout",
     "output_type": "stream",
     "text": [
      "{'Ana', 'Maria', 'João', 'Pedro', 'Lucas'}\n"
     ]
    }
   ],
   "source": [
    "# 03_union.py\n",
    "# União de conjuntos\n",
    "# Exemplo: Alunos que fazem inglês ou espanhol\n",
    "\n",
    "alunos_ingles = {\"Maria\", \"João\", \"Pedro\"}\n",
    "alunos_espanhol = {\"Ana\", \"João\", \"Lucas\"}\n",
    "todos_alunos = alunos_ingles.union(alunos_espanhol)\n",
    "# ou: todos_alunos = alunos_ingles | alunos_espanhol\n",
    "print(todos_alunos)  # {'Maria', 'João', 'Pedro', 'Ana', 'Lucas'}"
   ]
  },
  {
   "cell_type": "code",
   "execution_count": null,
   "metadata": {},
   "outputs": [
    {
     "name": "stdout",
     "output_type": "stream",
     "text": [
      "{'João'}\n"
     ]
    }
   ],
   "source": [
    "# 04_intersection.py\n",
    "# Interseção de conjuntos\n",
    "# Exemplo: Alunos que fazem ambos os idiomas\n",
    "\n",
    "alunos_ambos = alunos_ingles.intersection(alunos_espanhol)\n",
    "# ou: alunos_ambos = alunos_ingles & alunos_espanhol\n",
    "print(alunos_ambos)  # {'João'}\n"
   ]
  },
  {
   "cell_type": "code",
   "execution_count": null,
   "metadata": {},
   "outputs": [
    {
     "name": "stdout",
     "output_type": "stream",
     "text": [
      "{'Maria', 'Pedro'}\n"
     ]
    }
   ],
   "source": [
    "# 05_difference.py\n",
    "# Diferença entre conjuntos\n",
    "# Exemplo: Alunos que fazem apenas inglês\n",
    "\n",
    "apenas_ingles = alunos_ingles.difference(alunos_espanhol)\n",
    "# ou: apenas_ingles = alunos_ingles - alunos_espanhol\n",
    "print(apenas_ingles)  # {'Maria', 'Pedro'}\n"
   ]
  },
  {
   "cell_type": "code",
   "execution_count": null,
   "metadata": {},
   "outputs": [
    {
     "name": "stdout",
     "output_type": "stream",
     "text": [
      "{'Ana', 'Maria', 'Pedro', 'Lucas'}\n"
     ]
    }
   ],
   "source": [
    "# 06_symmetric_difference.py\n",
    "# Diferença simétrica (elementos que estão em um ou outro conjunto, mas não em ambos)\n",
    "# Exemplo: Alunos que fazem apenas um idioma\n",
    "\n",
    "um_idioma = alunos_ingles.symmetric_difference(alunos_espanhol)\n",
    "# ou: um_idioma = alunos_ingles ^ alunos_espanhol\n",
    "print(um_idioma)  # {'Maria', 'Pedro', 'Ana', 'Lucas'}\n",
    "\n"
   ]
  },
  {
   "cell_type": "code",
   "execution_count": null,
   "metadata": {},
   "outputs": [
    {
     "name": "stdout",
     "output_type": "stream",
     "text": [
      "True\n"
     ]
    }
   ],
   "source": [
    "# 07_issubset.py\n",
    "# Verifica se um conjunto é subconjunto de outro\n",
    "# Exemplo: Verificar se todos os alunos de matemática básica também fazem matemática avançada\n",
    "\n",
    "mat_basica = {\"Maria\", \"João\"}\n",
    "mat_avancada = {\"Maria\", \"João\", \"Pedro\", \"Ana\"}\n",
    "print(mat_basica.issubset(mat_avancada))  # True\n"
   ]
  },
  {
   "cell_type": "code",
   "execution_count": null,
   "metadata": {},
   "outputs": [
    {
     "name": "stdout",
     "output_type": "stream",
     "text": [
      "True\n"
     ]
    }
   ],
   "source": [
    "# 08_issuperset.py\n",
    "# Verifica se um conjunto contém outro conjunto\n",
    "# Exemplo: Verificar se todos os alunos de matemática básica estão na lista geral\n",
    "\n",
    "todos_alunos = {\"Maria\", \"João\", \"Pedro\", \"Ana\", \"Lucas\"}\n",
    "alunos_basico = {\"Maria\", \"João\"}\n",
    "print(todos_alunos.issuperset(alunos_basico))  # True\n"
   ]
  },
  {
   "cell_type": "code",
   "execution_count": null,
   "metadata": {},
   "outputs": [
    {
     "name": "stdout",
     "output_type": "stream",
     "text": [
      "True\n"
     ]
    }
   ],
   "source": [
    "# 09_isdisjoint.py\n",
    "# Verifica se dois conjuntos não têm elementos em comum\n",
    "# Exemplo: Verificar se não há alunos em comum entre turma da manhã e noite\n",
    "\n",
    "turma_manha = {\"Maria\", \"João\"}\n",
    "turma_noite = {\"Pedro\", \"Ana\"}\n",
    "print(turma_manha.isdisjoint(turma_noite))  # True\n"
   ]
  },
  {
   "cell_type": "code",
   "execution_count": null,
   "metadata": {},
   "outputs": [
    {
     "name": "stdout",
     "output_type": "stream",
     "text": [
      "{'Maria', 'João', 'Pedro'}\n"
     ]
    }
   ],
   "source": [
    "# 10_add.py\n",
    "# Adiciona um elemento ao conjunto\n",
    "# Exemplo: Matricular novo aluno\n",
    "\n",
    "alunos = {\"Maria\", \"João\"}\n",
    "alunos.add(\"Pedro\")\n",
    "print(alunos)  # {'Maria', 'João', 'Pedro'}"
   ]
  },
  {
   "cell_type": "code",
   "execution_count": null,
   "metadata": {},
   "outputs": [
    {
     "name": "stdout",
     "output_type": "stream",
     "text": [
      "set()\n"
     ]
    }
   ],
   "source": [
    "# 11_clear.py\n",
    "# Remove todos os elementos do conjunto\n",
    "# Exemplo: Limpar lista de presença\n",
    "\n",
    "presentes = {\"Maria\", \"João\", \"Pedro\"}\n",
    "presentes.clear()\n",
    "print(presentes)  # set()\n"
   ]
  },
  {
   "cell_type": "code",
   "execution_count": null,
   "metadata": {},
   "outputs": [
    {
     "name": "stdout",
     "output_type": "stream",
     "text": [
      "{'Maria', 'João', 'Pedro'}\n"
     ]
    }
   ],
   "source": [
    "# 12_copy.py\n",
    "# Cria uma cópia do conjunto\n",
    "# Exemplo: Fazer backup da lista de alunos\n",
    "\n",
    "alunos = {\"Maria\", \"João\", \"Pedro\"}\n",
    "backup_alunos = alunos.copy()\n",
    "print(backup_alunos)  # {'Maria', 'João', 'Pedro'}\n"
   ]
  },
  {
   "cell_type": "code",
   "execution_count": null,
   "metadata": {},
   "outputs": [
    {
     "name": "stdout",
     "output_type": "stream",
     "text": [
      "{'Maria', 'Pedro'}\n"
     ]
    }
   ],
   "source": [
    "# 13_discard.py\n",
    "# Remove um elemento se existir (não gera erro se não existir)\n",
    "# Exemplo: Remover aluno que trancou matrícula\n",
    "\n",
    "alunos = {\"Maria\", \"João\", \"Pedro\"}\n",
    "alunos.discard(\"João\")\n",
    "alunos.discard(\"Lucas\")  # não gera erro\n",
    "print(alunos)  # {'Maria', 'Pedro'}"
   ]
  },
  {
   "cell_type": "code",
   "execution_count": null,
   "metadata": {},
   "outputs": [
    {
     "name": "stdout",
     "output_type": "stream",
     "text": [
      "Aluno sorteado: Maria\n",
      "Alunos restantes: {'João', 'Pedro'}\n"
     ]
    }
   ],
   "source": [
    "# 14_pop.py\n",
    "# Remove e retorna um elemento arbitrário\n",
    "# Exemplo: Selecionar um aluno aleatório para apresentar trabalho\n",
    "\n",
    "alunos = {\"Maria\", \"João\", \"Pedro\"}\n",
    "sorteado = alunos.pop()\n",
    "print(f\"Aluno sorteado: {sorteado}\")\n",
    "print(f\"Alunos restantes: {alunos}\")\n"
   ]
  },
  {
   "cell_type": "code",
   "execution_count": null,
   "metadata": {},
   "outputs": [
    {
     "name": "stdout",
     "output_type": "stream",
     "text": [
      "{'Maria', 'Pedro'}\n"
     ]
    }
   ],
   "source": [
    "# 15_remove.py\n",
    "# Remove um elemento (gera erro se não existir)\n",
    "# Exemplo: Remover aluno que se formou\n",
    "\n",
    "alunos = {\"Maria\", \"João\", \"Pedro\"}\n",
    "alunos.remove(\"João\")  # se João não existisse, geraria erro\n",
    "print(alunos)  # {'Maria', 'Pedro'}"
   ]
  },
  {
   "cell_type": "code",
   "execution_count": null,
   "metadata": {},
   "outputs": [
    {
     "name": "stdout",
     "output_type": "stream",
     "text": [
      "Total de alunos: 3\n"
     ]
    }
   ],
   "source": [
    "# 16_len.py\n",
    "# Retorna o número de elementos no conjunto\n",
    "# Exemplo: Contar número de alunos matriculados\n",
    "\n",
    "alunos = {\"Maria\", \"João\", \"Pedro\"}\n",
    "total_alunos = len(alunos)\n",
    "print(f\"Total de alunos: {total_alunos}\")  # 3"
   ]
  },
  {
   "cell_type": "code",
   "execution_count": null,
   "metadata": {},
   "outputs": [
    {
     "name": "stdout",
     "output_type": "stream",
     "text": [
      "Maria está presente\n",
      "Lucas não está presente\n"
     ]
    }
   ],
   "source": [
    "# 17_in.py\n",
    "# Verifica se um elemento está no conjunto\n",
    "# Exemplo: Verificar se aluno está presente\n",
    "\n",
    "alunos = {\"Maria\", \"João\", \"Pedro\"}\n",
    "if \"Maria\" in alunos:\n",
    "    print(\"Maria está presente\")\n",
    "if \"Lucas\" not in alunos:\n",
    "    print(\"Lucas não está presente\")"
   ]
  },
  {
   "cell_type": "markdown",
   "metadata": {},
   "source": [
    "# Tudo Sobre Dicionários (dict) em Python com Exemplos do Mundo Real"
   ]
  },
  {
   "cell_type": "code",
   "execution_count": null,
   "metadata": {},
   "outputs": [
    {
     "name": "stdout",
     "output_type": "stream",
     "text": [
      "{'nome': 'Ana', 'idade': 30, 'cidade': 'São Paulo'}\n",
      "Gripe\n"
     ]
    }
   ],
   "source": [
    "# 📌 00_declarando_dicionarios.py\n",
    "# Dicionários são coleções de pares chave-valor.\n",
    "dicionario_vazio = {}\n",
    "dicionario_pessoa = {\"nome\": \"Ana\", \"idade\": 30, \"cidade\": \"São Paulo\"}\n",
    "\n",
    "print(dicionario_pessoa)  # {'nome': 'Ana', 'idade': 30, 'cidade': 'São Paulo'}\n",
    "\n",
    "# Exemplo da vida real:\n",
    "# Dicionários são como a ficha de um paciente em um hospital: cada campo tem um valor associado.\n",
    "paciente = {\"nome\": \"Carlos\", \"idade\": 45, \"diagnóstico\": \"Gripe\"}\n",
    "print(paciente[\"diagnóstico\"])  # 'Gripe'"
   ]
  },
  {
   "cell_type": "code",
   "execution_count": null,
   "metadata": {},
   "outputs": [
    {
     "name": "stdout",
     "output_type": "stream",
     "text": [
      "Ana\n"
     ]
    }
   ],
   "source": [
    "# 📌 01_acessando_dados.py\n",
    "# Acessando valores de um dicionário\n",
    "print(dicionario_pessoa[\"nome\"])  # 'Ana'"
   ]
  },
  {
   "cell_type": "code",
   "execution_count": null,
   "metadata": {},
   "outputs": [
    {
     "name": "stdout",
     "output_type": "stream",
     "text": [
      "João\n"
     ]
    }
   ],
   "source": [
    "# 📌 02_dicionarios_aninhados.py\n",
    "# Dicionários podem conter outros dicionários\n",
    "empresa = {\n",
    "    \"departamentos\": {\n",
    "        \"TI\": {\"funcionarios\": 10, \"gestor\": \"João\"},\n",
    "        \"RH\": {\"funcionarios\": 5, \"gestor\": \"Mariana\"}\n",
    "    }\n",
    "}\n",
    "print(empresa[\"departamentos\"][\"TI\"][\"gestor\"])  # 'João'"
   ]
  },
  {
   "cell_type": "code",
   "execution_count": null,
   "metadata": {},
   "outputs": [
    {
     "name": "stdout",
     "output_type": "stream",
     "text": [
      "nome: Ana\n",
      "idade: 30\n",
      "cidade: São Paulo\n",
      "Pizza: R$ 25.9\n",
      "Hambúrguer: R$ 18.5\n",
      "Suco: R$ 7.0\n"
     ]
    }
   ],
   "source": [
    "# 📌 03_iterando_dicionarios.py\n",
    "# Percorrendo chaves e valores de um dicionário\n",
    "for chave, valor in dicionario_pessoa.items():\n",
    "    print(f\"{chave}: {valor}\")\n",
    "\n",
    "# Exemplo da vida real:\n",
    "# Percorrendo um cardápio de restaurante\n",
    "cardapio = {\"Pizza\": 25.90, \"Hambúrguer\": 18.50, \"Suco\": 7.00}\n",
    "for prato, preco in cardapio.items():\n",
    "    print(f\"{prato}: R$ {preco}\")"
   ]
  },
  {
   "cell_type": "code",
   "execution_count": null,
   "metadata": {},
   "outputs": [
    {
     "name": "stdout",
     "output_type": "stream",
     "text": [
      "{}\n"
     ]
    }
   ],
   "source": [
    "# 📌 04_clear.py\n",
    "# Apagando todos os dados de um dicionário\n",
    "dicionario_pessoa.clear()\n",
    "print(dicionario_pessoa)  # {}"
   ]
  },
  {
   "cell_type": "code",
   "execution_count": null,
   "metadata": {},
   "outputs": [
    {
     "name": "stdout",
     "output_type": "stream",
     "text": [
      "{'nome': 'Ana', 'idade': 30, 'cidade': 'São Paulo'}\n",
      "Gripe\n"
     ]
    }
   ],
   "source": [
    "# 📌 00_declarando_dicionarios.py\n",
    "# Dicionários são coleções de pares chave-valor.\n",
    "dicionario_vazio = {}\n",
    "dicionario_pessoa = {\"nome\": \"Ana\", \"idade\": 30, \"cidade\": \"São Paulo\"}\n",
    "\n",
    "print(dicionario_pessoa)  # {'nome': 'Ana', 'idade': 30, 'cidade': 'São Paulo'}\n",
    "\n",
    "# Exemplo da vida real:\n",
    "# Dicionários são como a ficha de um paciente em um hospital: cada campo tem um valor associado.\n",
    "paciente = {\"nome\": \"Carlos\", \"idade\": 45, \"diagnóstico\": \"Gripe\"}\n",
    "print(paciente[\"diagnóstico\"])  # 'Gripe'"
   ]
  },
  {
   "cell_type": "code",
   "execution_count": null,
   "metadata": {},
   "outputs": [
    {
     "name": "stdout",
     "output_type": "stream",
     "text": [
      "{'departamentos': {'TI': {'funcionarios': 10, 'gestor': 'João'}, 'RH': {'funcionarios': 5, 'gestor': 'Mariana'}}}\n"
     ]
    }
   ],
   "source": [
    "# 📌 05_copy.py\n",
    "# Criando uma cópia de um dicionário\n",
    "copia_empresa = empresa.copy()\n",
    "print(copia_empresa)"
   ]
  },
  {
   "cell_type": "code",
   "execution_count": null,
   "metadata": {},
   "outputs": [
    {
     "name": "stdout",
     "output_type": "stream",
     "text": [
      "{'nome': 'Desconhecido', 'idade': 'Desconhecido', 'cidade': 'Desconhecido'}\n"
     ]
    }
   ],
   "source": [
    "# 📌 06_fromkeys.py\n",
    "# Criando um dicionário com chaves e um valor padrão\n",
    "chaves = [\"nome\", \"idade\", \"cidade\"]\n",
    "novo_dict = dict.fromkeys(chaves, \"Desconhecido\")\n",
    "print(novo_dict)  # {'nome': 'Desconhecido', 'idade': 'Desconhecido', 'cidade': 'Desconhecido'}"
   ]
  },
  {
   "cell_type": "code",
   "execution_count": null,
   "metadata": {},
   "outputs": [
    {
     "name": "stdout",
     "output_type": "stream",
     "text": [
      "Ana\n"
     ]
    }
   ],
   "source": [
    "# 📌 07_get.py\n",
    "# Obtendo um valor com segurança\n",
    "print(dicionario_pessoa.get(\"nome\", \"Não encontrado\"))  # 'Não encontrado' (pois limpamos antes)\n"
   ]
  },
  {
   "cell_type": "code",
   "execution_count": null,
   "metadata": {},
   "outputs": [
    {
     "name": "stdout",
     "output_type": "stream",
     "text": [
      "dict_items([('nome', 'Ana'), ('idade', 30), ('cidade', 'São Paulo')])\n"
     ]
    }
   ],
   "source": [
    "# 📌 08_items.py\n",
    "# Obtendo pares chave-valor como tuplas\n",
    "print(dicionario_pessoa.items())"
   ]
  },
  {
   "cell_type": "code",
   "execution_count": null,
   "metadata": {},
   "outputs": [
    {
     "name": "stdout",
     "output_type": "stream",
     "text": [
      "dict_keys(['nome', 'idade', 'cidade'])\n"
     ]
    }
   ],
   "source": [
    "# 📌 09_keys.py\n",
    "# Obtendo todas as chaves do dicionário\n",
    "print(dicionario_pessoa.keys())"
   ]
  },
  {
   "cell_type": "code",
   "execution_count": null,
   "metadata": {},
   "outputs": [
    {
     "name": "stdout",
     "output_type": "stream",
     "text": [
      "30\n"
     ]
    }
   ],
   "source": [
    "# 📌 10_pop.py\n",
    "# Removendo um item específico e obtendo seu valor\n",
    "idade = dicionario_pessoa.pop(\"idade\", \"Não encontrado\")\n",
    "print(idade)  # 'Não encontrado'"
   ]
  },
  {
   "cell_type": "code",
   "execution_count": null,
   "metadata": {},
   "outputs": [
    {
     "name": "stdout",
     "output_type": "stream",
     "text": [
      "('Suco', 7.0)\n"
     ]
    }
   ],
   "source": [
    "# 📌 11_popitem.py\n",
    "# Removendo o último item do dicionário\n",
    "ultimo_item = cardapio.popitem()\n",
    "print(ultimo_item)  # ('Suco', 7.00) (pode variar)"
   ]
  },
  {
   "cell_type": "code",
   "execution_count": null,
   "metadata": {},
   "outputs": [
    {
     "name": "stdout",
     "output_type": "stream",
     "text": [
      "Ana\n"
     ]
    }
   ],
   "source": [
    "# 📌 12_setdefault.py\n",
    "# Obtendo um valor e definindo um padrão se não existir\n",
    "nome = dicionario_pessoa.setdefault(\"nome\", \"Desconhecido\")\n",
    "print(nome)  # 'Desconhecido'"
   ]
  },
  {
   "cell_type": "code",
   "execution_count": null,
   "metadata": {},
   "outputs": [
    {
     "name": "stdout",
     "output_type": "stream",
     "text": [
      "{'nome': 'Pedro', 'cidade': 'São Paulo', 'idade': 22}\n"
     ]
    }
   ],
   "source": [
    "# 📌 13_update.py\n",
    "# Atualizando valores de um dicionário\n",
    "dicionario_pessoa.update({\"nome\": \"Pedro\", \"idade\": 22})\n",
    "print(dicionario_pessoa)"
   ]
  },
  {
   "cell_type": "code",
   "execution_count": null,
   "metadata": {},
   "outputs": [
    {
     "name": "stdout",
     "output_type": "stream",
     "text": [
      "dict_values(['Pedro', 'São Paulo', 22])\n"
     ]
    }
   ],
   "source": [
    "# 📌 14_values.py\n",
    "# Obtendo todos os valores do dicionário\n",
    "print(dicionario_pessoa.values())"
   ]
  },
  {
   "cell_type": "code",
   "execution_count": null,
   "metadata": {},
   "outputs": [
    {
     "name": "stdout",
     "output_type": "stream",
     "text": [
      "True\n"
     ]
    }
   ],
   "source": [
    "# 📌 15_in.py\n",
    "# Verificando se uma chave existe no dicionário\n",
    "print(\"cidade\" in dicionario_pessoa)  # False"
   ]
  },
  {
   "cell_type": "code",
   "execution_count": null,
   "metadata": {},
   "outputs": [
    {
     "name": "stdout",
     "output_type": "stream",
     "text": [
      "{'cidade': 'São Paulo', 'idade': 22}\n"
     ]
    }
   ],
   "source": [
    "# 📌 16_del.py\n",
    "# Deletando um item do dicionário\n",
    "del dicionario_pessoa[\"nome\"]\n",
    "print(dicionario_pessoa)  # {'idade': 22}"
   ]
  },
  {
   "cell_type": "markdown",
   "metadata": {},
   "source": [
    "# 📌 Tudo Sobre Funções em Python com Exemplos do Mundo Real"
   ]
  },
  {
   "cell_type": "code",
   "execution_count": null,
   "metadata": {},
   "outputs": [
    {
     "name": "stdout",
     "output_type": "stream",
     "text": [
      "Olá, seja bem-vindo!\n"
     ]
    }
   ],
   "source": [
    "# 📌 00_primeira_funcao.py\n",
    "# Definindo e chamando uma função simples\n",
    "def saudacao():\n",
    "    print(\"Olá, seja bem-vindo!\")\n",
    "\n",
    "saudacao()  # Saída: Olá, seja bem-vindo!\n",
    "\n",
    "# Exemplo da vida real:\n",
    "# Um botão de elevador sempre chama o elevador quando pressionado (função)."
   ]
  },
  {
   "cell_type": "code",
   "execution_count": null,
   "metadata": {},
   "outputs": [
    {
     "name": "stdout",
     "output_type": "stream",
     "text": [
      "8\n"
     ]
    }
   ],
   "source": [
    "# 📌 01_retorno_da_funcao.py\n",
    "# Função com retorno de valor\n",
    "def soma(a, b):\n",
    "    return a + b\n",
    "\n",
    "resultado = soma(5, 3)\n",
    "print(resultado)  # Saída: 8\n",
    "\n",
    "# Exemplo da vida real:\n",
    "# Um caixa eletrônico retorna o saldo após um saque."
   ]
  },
  {
   "cell_type": "code",
   "execution_count": null,
   "metadata": {},
   "outputs": [
    {
     "name": "stdout",
     "output_type": "stream",
     "text": [
      "Nome: Carlos, Idade: 30\n"
     ]
    }
   ],
   "source": [
    "# 📌 02_argumentos_nomeados.py\n",
    "# Chamando a função com argumentos nomeados\n",
    "def apresentar_pessoa(nome, idade):\n",
    "    print(f\"Nome: {nome}, Idade: {idade}\")\n",
    "\n",
    "apresentar_pessoa(idade=30, nome=\"Carlos\")  \n",
    "# Nome: Carlos, Idade: 30\n"
   ]
  },
  {
   "cell_type": "code",
   "execution_count": null,
   "metadata": {},
   "outputs": [
    {
     "name": "stdout",
     "output_type": "stream",
     "text": [
      "10\n",
      "nome: Ana\n",
      "idade: 25\n",
      "cidade: Rio\n"
     ]
    }
   ],
   "source": [
    "# 📌 03_args_kwargs.py\n",
    "# *args: argumentos variáveis\n",
    "def somar_tudo(*numeros):\n",
    "    return sum(numeros)\n",
    "\n",
    "print(somar_tudo(1, 2, 3, 4))  # 10\n",
    "\n",
    "# **kwargs: argumentos nomeados variáveis\n",
    "def info_pessoa(**dados):\n",
    "    for chave, valor in dados.items():\n",
    "        print(f\"{chave}: {valor}\")\n",
    "\n",
    "info_pessoa(nome=\"Ana\", idade=25, cidade=\"Rio\")\n",
    "# nome: Ana\n",
    "# idade: 25\n",
    "# cidade: Rio"
   ]
  },
  {
   "cell_type": "code",
   "execution_count": null,
   "metadata": {},
   "outputs": [
    {
     "name": "stdout",
     "output_type": "stream",
     "text": [
      "90.0\n"
     ]
    }
   ],
   "source": [
    "# 📌 04_parametros_somente_por_posicao.py\n",
    "# Definindo parâmetros que devem ser passados apenas por posição\n",
    "def desconto(preco, /, porcentagem):\n",
    "    return preco - (preco * (porcentagem / 100))\n",
    "\n",
    "print(desconto(100, 10))  # 90\n"
   ]
  },
  {
   "cell_type": "code",
   "execution_count": null,
   "metadata": {},
   "outputs": [
    {
     "name": "stdout",
     "output_type": "stream",
     "text": [
      "Servidor configurado em 192.168.1.1:8080\n"
     ]
    }
   ],
   "source": [
    "# 📌 05_parametros_somente_por_nome.py\n",
    "# Definindo parâmetros que devem ser passados apenas por nome\n",
    "def configurar_servidor(*, ip, porta):\n",
    "    print(f\"Servidor configurado em {ip}:{porta}\")\n",
    "\n",
    "configurar_servidor(ip=\"192.168.1.1\", porta=8080)\n",
    "# Servidor configurado em 192.168.1.1:8080"
   ]
  },
  {
   "cell_type": "code",
   "execution_count": null,
   "metadata": {},
   "outputs": [
    {
     "name": "stdout",
     "output_type": "stream",
     "text": [
      "10\n",
      "14\n"
     ]
    }
   ],
   "source": [
    "# 📌 06_objetos_de_primeira_classe.py\n",
    "# Funções podem ser atribuídas a variáveis, passadas como argumentos e retornadas\n",
    "def dobro(n):\n",
    "    return n * 2\n",
    "\n",
    "operacao = dobro  # Atribuindo a função a uma variável\n",
    "print(operacao(5))  # 10\n",
    "\n",
    "def aplicar_funcao(func, valor):\n",
    "    return func(valor)\n",
    "\n",
    "print(aplicar_funcao(dobro, 7))  # 14\n",
    "\n",
    "# Exemplo da vida real:\n",
    "# Um sistema que permite escolher diferentes métodos de pagamento (cartão, boleto, pix) e aplica a função correspondente.\n"
   ]
  },
  {
   "cell_type": "code",
   "execution_count": null,
   "metadata": {},
   "outputs": [
    {
     "name": "stdout",
     "output_type": "stream",
     "text": [
      "Saque de 200 realizado. Saldo atual: 800\n",
      "800\n"
     ]
    }
   ],
   "source": [
    "# 📌 07_escopo_local_e_global.py\n",
    "# Variáveis locais e globais\n",
    "saldo = 1000  # Variável global\n",
    "\n",
    "def sacar(valor):\n",
    "    global saldo  # Permite modificar a variável global\n",
    "    saldo -= valor\n",
    "    print(f\"Saque de {valor} realizado. Saldo atual: {saldo}\")\n",
    "\n",
    "sacar(200)  # Saque de 200 realizado. Saldo atual: 800\n",
    "print(saldo)  # 800\n",
    "\n",
    "# Exemplo da vida real:\n",
    "# Um banco atualizando o saldo de uma conta."
   ]
  },
  {
   "cell_type": "code",
   "execution_count": null,
   "metadata": {},
   "outputs": [],
   "source": []
  }
 ],
 "metadata": {
  "kernelspec": {
   "display_name": "Python 3",
   "language": "python",
   "name": "python3"
  },
  "language_info": {
   "codemirror_mode": {
    "name": "ipython",
    "version": 3
   },
   "file_extension": ".py",
   "mimetype": "text/x-python",
   "name": "python",
   "nbconvert_exporter": "python",
   "pygments_lexer": "ipython3",
   "version": "3.13.1"
  }
 },
 "nbformat": 4,
 "nbformat_minor": 2
}
