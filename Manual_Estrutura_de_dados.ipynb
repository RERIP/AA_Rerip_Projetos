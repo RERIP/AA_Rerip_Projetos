{
 "cells": [
  {
   "cell_type": "markdown",
   "metadata": {},
   "source": [
    "# Tudo Sobre Listas em Python com Exemplos do Mundo Real"
   ]
  },
  {
   "cell_type": "markdown",
   "metadata": {},
   "source": [
    "## 1. Fundamentos das Listas"
   ]
  },
  {
   "cell_type": "code",
   "execution_count": 1,
   "metadata": {},
   "outputs": [
    {
     "name": "stdout",
     "output_type": "stream",
     "text": [
      "['Arroz', 'Feijão', 'Leite', 'Ovos']\n"
     ]
    }
   ],
   "source": [
    "# 📌 Declarando Listas (00_declarando_listas.py)\n",
    "# Exemplo: Uma lista de compras do supermercado\n",
    "lista_compras = [\"Arroz\", \"Feijão\", \"Leite\", \"Ovos\"]\n",
    "print(lista_compras)  # [\"Arroz\", \"Feijão\", \"Leite\", \"Ovos\"]"
   ]
  },
  {
   "cell_type": "code",
   "execution_count": 2,
   "metadata": {},
   "outputs": [
    {
     "name": "stdout",
     "output_type": "stream",
     "text": [
      "SBT\n"
     ]
    }
   ],
   "source": [
    "# 📌 Acesso Direto aos Elementos (01_acesso_direto.py)\n",
    "# Exemplo: Escolhendo um canal de TV pelo número\n",
    "canais_tv = [\"Globo\", \"SBT\", \"Record\", \"Band\"]\n",
    "print(canais_tv[1])  # \"SBT\""
   ]
  },
  {
   "cell_type": "code",
   "execution_count": 3,
   "metadata": {},
   "outputs": [
    {
     "name": "stdout",
     "output_type": "stream",
     "text": [
      "Blues\n"
     ]
    }
   ],
   "source": [
    "# 📌 Índices Negativos (02_indices_negativos.py)\n",
    "# Exemplo: Pegando a última música tocada no Spotify\n",
    "playlist = [\"Rock\", \"Pop\", \"Jazz\", \"Blues\"]\n",
    "print(playlist[-1])  # \"Blues\""
   ]
  },
  {
   "cell_type": "markdown",
   "metadata": {},
   "source": [
    "## 2. Manipulação de Listas"
   ]
  },
  {
   "cell_type": "code",
   "execution_count": 11,
   "metadata": {},
   "outputs": [
    {
     "name": "stdout",
     "output_type": "stream",
     "text": [
      "08:00\n"
     ]
    }
   ],
   "source": [
    "# 📌 Matriz (Listas dentro de listas) (03_matriz.py)\n",
    "# Exemplo: Uma tabela de horários de ônibus\n",
    "horarios_onibus = [[\"06:00\", \"07:00\"], [\"08:00\", \"09:00\"], [\"10:00\", \"11:00\"]]\n",
    "print(horarios_onibus[1][0])  # \"08:00\""
   ]
  },
  {
   "cell_type": "code",
   "execution_count": 12,
   "metadata": {},
   "outputs": [
    {
     "name": "stdout",
     "output_type": "stream",
     "text": [
      "['Seg', 'Ter', 'Qua', 'Qui', 'Sex']\n"
     ]
    }
   ],
   "source": [
    "# 📌 Fatiamento de Listas (04_fatiamento.py)\n",
    "# Exemplo: Pegando os dias úteis da semana\n",
    "semana = [\"Dom\", \"Seg\", \"Ter\", \"Qua\", \"Qui\", \"Sex\", \"Sáb\"]\n",
    "dias_uteis = semana[1:6]\n",
    "print(dias_uteis)  # [\"Seg\", \"Ter\", \"Qua\", \"Qui\", \"Sex\"]"
   ]
  },
  {
   "cell_type": "code",
   "execution_count": 13,
   "metadata": {},
   "outputs": [
    {
     "name": "stdout",
     "output_type": "stream",
     "text": [
      "Ligando para Ana...\n",
      "Ligando para Bruno...\n",
      "Ligando para Carlos...\n"
     ]
    }
   ],
   "source": [
    "# 📌 Iterando sobre Listas (05_iterar_listas.py)\n",
    "# Exemplo: Passando pelos contatos da agenda\n",
    "contatos = [\"Ana\", \"Bruno\", \"Carlos\"]\n",
    "for contato in contatos:\n",
    "    print(f\"Ligando para {contato}...\")"
   ]
  },
  {
   "cell_type": "markdown",
   "metadata": {},
   "source": [
    "## 3. Métodos Importantes para Listas"
   ]
  },
  {
   "cell_type": "code",
   "execution_count": 15,
   "metadata": {},
   "outputs": [
    {
     "name": "stdout",
     "output_type": "stream",
     "text": [
      "[2.0, 4.0, 6.0]\n"
     ]
    }
   ],
   "source": [
    "# 📌 Compreensão de Listas (06_compreensao_de_listas.py)\n",
    "# Exemplo: Convertendo preços de reais para dólares (supondo R$1 = $0.2)\n",
    "precos_reais = [10, 20, 30]\n",
    "precos_dolares = [preco * 0.2 for preco in precos_reais]\n",
    "print(precos_dolares)  # [2.0, 4.0, 6.0]"
   ]
  },
  {
   "cell_type": "code",
   "execution_count": 16,
   "metadata": {},
   "outputs": [
    {
     "name": "stdout",
     "output_type": "stream",
     "text": [
      "['João', 'Maria', 'Pedro', 'Paula', 'Carlos']\n"
     ]
    }
   ],
   "source": [
    "# 📌 Adicionar elementos (07_append.py, 11_extend.py)\n",
    "# Exemplo: Adicionando amigos ao grupo do WhatsApp\n",
    "grupo_whatsapp = [\"João\", \"Maria\"]\n",
    "grupo_whatsapp.append(\"Pedro\")  # Adiciona um único amigo\n",
    "grupo_whatsapp.extend([\"Paula\", \"Carlos\"])  # Adiciona vários amigos\n",
    "print(grupo_whatsapp)"
   ]
  },
  {
   "cell_type": "code",
   "execution_count": 17,
   "metadata": {},
   "outputs": [
    {
     "name": "stdout",
     "output_type": "stream",
     "text": [
      "['Ir ao mercado']\n"
     ]
    }
   ],
   "source": [
    "# 📌 Remover elementos (08_clear.py, 13_pop.py, 14_remove.py)\n",
    "# Exemplo: Removendo tarefas concluídas de uma lista de afazeres\n",
    "afazeres = [\"Lavar roupa\", \"Estudar\", \"Ir ao mercado\"]\n",
    "afazeres.remove(\"Estudar\")  # Remove pelo valor\n",
    "tarefa_concluida = afazeres.pop(0)  # Remove pelo índice\n",
    "print(afazeres)"
   ]
  },
  {
   "cell_type": "code",
   "execution_count": 18,
   "metadata": {},
   "outputs": [
    {
     "name": "stdout",
     "output_type": "stream",
     "text": [
      "['Pizza', 'Hambúrguer', 'Sushi']\n",
      "['Pizza', 'Hambúrguer', 'Sushi', 'Salada']\n"
     ]
    }
   ],
   "source": [
    "# 📌 Cópia de Listas (09_copy.py)\n",
    "# Exemplo: Cópia de um cardápio para um novo restaurante\n",
    "cardapio_original = [\"Pizza\", \"Hambúrguer\", \"Sushi\"]\n",
    "cardapio_novo = cardapio_original.copy()\n",
    "cardapio_novo.append(\"Salada\")\n",
    "print(cardapio_original)  # [\"Pizza\", \"Hambúrguer\", \"Sushi\"]\n",
    "print(cardapio_novo)  # [\"Pizza\", \"Hambúrguer\", \"Sushi\", \"Salada\"]"
   ]
  },
  {
   "cell_type": "code",
   "execution_count": 19,
   "metadata": {},
   "outputs": [
    {
     "name": "stdout",
     "output_type": "stream",
     "text": [
      "[5, 6, 8, 9]\n"
     ]
    }
   ],
   "source": [
    "# 📌 Ordenação (16_sort.py, 18_sorted.py)\n",
    "# Exemplo: Ordenando notas de alunos\n",
    "notas = [8, 5, 9, 6]\n",
    "notas.sort()  # Modifica a própria lista\n",
    "print(notas)  # [5, 6, 8, 9]"
   ]
  },
  {
   "cell_type": "code",
   "execution_count": 20,
   "metadata": {},
   "outputs": [
    {
     "name": "stdout",
     "output_type": "stream",
     "text": [
      "[9, 8, 6, 5]\n"
     ]
    }
   ],
   "source": [
    "# Usando sorted() para não modificar a original\n",
    "notas_ordenadas = sorted(notas, reverse=True)\n",
    "print(notas_ordenadas)  # [9, 8, 6, 5]"
   ]
  },
  {
   "cell_type": "markdown",
   "metadata": {},
   "source": [
    "## 5. Informação Sobre a Lista"
   ]
  },
  {
   "cell_type": "markdown",
   "metadata": {},
   "source": [
    "# 📌 Tamanho da lista (17_len.py)"
   ]
  },
  {
   "cell_type": "code",
   "execution_count": null,
   "metadata": {},
   "outputs": [
    {
     "name": "stdout",
     "output_type": "stream",
     "text": [
      "3\n"
     ]
    }
   ],
   "source": [
    "\n",
    "# Exemplo: Contando quantos e-mails estão na caixa de entrada\n",
    "emails = [\"email1\", \"email2\", \"email3\"]\n",
    "print(len(emails))  # 3"
   ]
  },
  {
   "cell_type": "markdown",
   "metadata": {},
   "source": [
    "# Tudo Sobre Tuplas em Python com Exemplos do Mundo Real"
   ]
  },
  {
   "cell_type": "code",
   "execution_count": 6,
   "metadata": {},
   "outputs": [
    {
     "name": "stdout",
     "output_type": "stream",
     "text": [
      "(1, 2, 3)\n",
      "RG de Renato: 123456789\n"
     ]
    }
   ],
   "source": [
    "# 📌 00_declarando_tuplas.py\n",
    "# Tuplas são como contratos: depois de assinados, não podem ser alterados.\n",
    "tupla_vazia = ()\n",
    "tupla_simples = (1, 2, 3)\n",
    "tupla_mista = (\"Python\", 3.14, True)\n",
    "tupla_um_elemento = (42,)  # Precisa da vírgula!\n",
    "\n",
    "print(tupla_simples)  # (1, 2, 3)\n",
    "\n",
    "# Exemplo da vida real:\n",
    "# Uma tupla pode representar um RG ou CPF, que não muda depois de criado.\n",
    "rg = (\"Renato\", \"123456789\")\n",
    "print(f\"RG de {rg[0]}: {rg[1]}\")"
   ]
  },
  {
   "cell_type": "code",
   "execution_count": 5,
   "metadata": {},
   "outputs": [
    {
     "name": "stdout",
     "output_type": "stream",
     "text": [
      "maçã\n",
      "A camisa 10 é do Messi\n"
     ]
    }
   ],
   "source": [
    "# 📌 01_acesso_direto.py\n",
    "# Acessando elementos da tupla\n",
    "tupla = (\"maçã\", \"banana\", \"cereja\")\n",
    "print(tupla[0])  # \"maçã\"\n",
    "\n",
    "# Exemplo da vida real:\n",
    "# Tuplas são como números de camisa de um time de futebol, sempre fixos.\n",
    "camisas = (\"Messi\", \"Cristiano\", \"Neymar\")\n",
    "print(f\"A camisa 10 é do {camisas[0]}\")"
   ]
  },
  {
   "cell_type": "code",
   "execution_count": null,
   "metadata": {},
   "outputs": [
    {
     "name": "stdout",
     "output_type": "stream",
     "text": [
      "cereja\n",
      "Último dia das férias: quinta\n"
     ]
    }
   ],
   "source": [
    "# 📌 03_indices_negativos.py\n",
    "# Índices negativos acessam elementos de trás para frente\n",
    "print(tupla[-1])  # \"cereja\"\n",
    "\n",
    "# Exemplo da vida real:\n",
    "# Como contar os últimos dias das férias:\n",
    "ferias = (\"segunda\", \"terça\", \"quarta\", \"quinta\", \"sexta\")\n",
    "print(f\"Último dia das férias: {ferias[-1]}\")"
   ]
  },
  {
   "cell_type": "code",
   "execution_count": 9,
   "metadata": {},
   "outputs": [
    {
     "name": "stdout",
     "output_type": "stream",
     "text": [
      "6\n",
      "O rei está na posição [2][0]: rei\n"
     ]
    }
   ],
   "source": [
    "# 📌 04_matriz.py\n",
    "# Tuplas dentro de tuplas (Matrizes)\n",
    "matriz = (\n",
    "    (1, 2, 3),\n",
    "    (4, 5, 6),\n",
    "    (7, 8, 9)\n",
    ")\n",
    "print(matriz[1][2])  # 6\n",
    "\n",
    "# Exemplo da vida real:\n",
    "# Matriz como um tabuleiro de xadrez:\n",
    "xadrez = (\n",
    "    (\"torre\", \"cavalo\", \"bispo\"),\n",
    "    (\"peão\", \"peão\", \"peão\"),\n",
    "    (\"rei\", \"rainha\", \"bispo\")\n",
    ")\n",
    "print(f\"O rei está na posição [2][0]: {xadrez[2][0]}\")"
   ]
  },
  {
   "cell_type": "code",
   "execution_count": 10,
   "metadata": {},
   "outputs": [
    {
     "name": "stdout",
     "output_type": "stream",
     "text": [
      "(1, 2, 3)\n",
      "Trimestre: ('Janeiro', 'Fevereiro', 'Março')\n"
     ]
    }
   ],
   "source": [
    "# 📌 05_fatiamento.py\n",
    "# Pegando partes da tupla\n",
    "tupla = (0, 1, 2, 3, 4, 5)\n",
    "print(tupla[1:4])  # (1, 2, 3)\n",
    "\n",
    "# Exemplo da vida real:\n",
    "# Pegando os primeiros 3 meses do ano:\n",
    "meses = (\"Janeiro\", \"Fevereiro\", \"Março\", \"Abril\", \"Maio\")\n",
    "print(f\"Trimestre: {meses[:3]}\")  # ('Janeiro', 'Fevereiro', 'Março')"
   ]
  },
  {
   "cell_type": "code",
   "execution_count": 11,
   "metadata": {},
   "outputs": [
    {
     "name": "stdout",
     "output_type": "stream",
     "text": [
      "maçã\n",
      "banana\n",
      "cereja\n",
      "Chamando o passageiro João\n",
      "Chamando o passageiro Maria\n",
      "Chamando o passageiro Carlos\n"
     ]
    }
   ],
   "source": [
    "# 📌 06_iterar_tuplas.py\n",
    "# Percorrendo uma tupla\n",
    "frutas = (\"maçã\", \"banana\", \"cereja\")\n",
    "for fruta in frutas:\n",
    "    print(fruta)\n",
    "\n",
    "# Exemplo da vida real:\n",
    "# Percorrendo uma tupla de passageiros de um voo:\n",
    "passageiros = (\"João\", \"Maria\", \"Carlos\")\n",
    "for passageiro in passageiros:\n",
    "    print(f\"Chamando o passageiro {passageiro}\")"
   ]
  },
  {
   "cell_type": "code",
   "execution_count": 12,
   "metadata": {},
   "outputs": [
    {
     "name": "stdout",
     "output_type": "stream",
     "text": [
      "3\n",
      "A letra 'a' aparece 2 vezes.\n"
     ]
    }
   ],
   "source": [
    "# 📌 07_count.py\n",
    "# Contando quantas vezes um valor aparece na tupla\n",
    "tupla = (1, 2, 2, 3, 2, 4)\n",
    "print(tupla.count(2))  # 3\n",
    "\n",
    "# Exemplo da vida real:\n",
    "# Quantas vezes a letra \"a\" aparece no nome \"Amanda\"?\n",
    "nome = tuple(\"Amanda\")\n",
    "print(f\"A letra 'a' aparece {nome.count('a')} vezes.\")"
   ]
  },
  {
   "cell_type": "code",
   "execution_count": 13,
   "metadata": {},
   "outputs": [
    {
     "name": "stdout",
     "output_type": "stream",
     "text": [
      "2\n",
      "Carlos está na posição 2\n"
     ]
    }
   ],
   "source": [
    "# 📌 08_index.py\n",
    "# Encontrando a posição de um elemento\n",
    "tupla = (\"a\", \"b\", \"c\", \"d\")\n",
    "print(tupla.index(\"c\"))  # 2\n",
    "\n",
    "# Exemplo da vida real:\n",
    "# Descobrindo em que posição um aluno está na lista de chamada:\n",
    "chamada = (\"Ana\", \"Bruno\", \"Carlos\")\n",
    "print(f\"Carlos está na posição {chamada.index('Carlos')}\")"
   ]
  },
  {
   "cell_type": "code",
   "execution_count": 14,
   "metadata": {},
   "outputs": [
    {
     "name": "stdout",
     "output_type": "stream",
     "text": [
      "4\n",
      "O ano tem 12 meses.\n"
     ]
    }
   ],
   "source": [
    "# 📌 09_len.py\n",
    "# Descobrindo o tamanho da tupla\n",
    "print(len(tupla))  # 4\n",
    "\n",
    "# Exemplo da vida real:\n",
    "# Quantos meses tem o ano?\n",
    "meses = (\"Jan\", \"Fev\", \"Mar\", \"Abr\", \"Mai\", \"Jun\", \"Jul\", \"Ago\", \"Set\", \"Out\", \"Nov\", \"Dez\")\n",
    "print(f\"O ano tem {len(meses)} meses.\")"
   ]
  },
  {
   "cell_type": "markdown",
   "metadata": {},
   "source": [
    "# 00_declarando_conjuntos.py"
   ]
  },
  {
   "cell_type": "code",
   "execution_count": 25,
   "metadata": {},
   "outputs": [
    {
     "name": "stdout",
     "output_type": "stream",
     "text": [
      "{'Ana', 'Maria', 'João', 'Pedro'}\n"
     ]
    }
   ],
   "source": [
    "# Conjuntos são coleções não ordenadas de elementos únicos\n",
    "# Exemplo: Alunos matriculados em um curso\n",
    "\n",
    "alunos = {\"Maria\", \"João\", \"Pedro\", \"Ana\"}\n",
    "alunos_vazio = set()  # conjunto vazio\n",
    "\n",
    "print(alunos)  # {'Maria', 'João', 'Pedro', 'Ana'}"
   ]
  },
  {
   "cell_type": "code",
   "execution_count": 26,
   "metadata": {},
   "outputs": [
    {
     "name": "stdout",
     "output_type": "stream",
     "text": [
      "Maria está matriculada\n"
     ]
    }
   ],
   "source": [
    "# 01_acessando_dados.py\n",
    "# Conjuntos não permitem acesso por índice, apenas verificação de pertencimento\n",
    "# Exemplo: Verificar se um aluno está matriculado\n",
    "\n",
    "alunos = {\"Maria\", \"João\", \"Pedro\", \"Ana\"}\n",
    "if \"Maria\" in alunos:\n",
    "    print(\"Maria está matriculada\")"
   ]
  },
  {
   "cell_type": "code",
   "execution_count": 19,
   "metadata": {},
   "outputs": [
    {
     "name": "stdout",
     "output_type": "stream",
     "text": [
      "1\n",
      "2\n",
      "3\n",
      "4\n",
      "5\n",
      "Parabéns, Alice!\n",
      "Parabéns, Bob!\n",
      "Parabéns, Charlie!\n"
     ]
    }
   ],
   "source": [
    "# 📌 02_iterar_conjuntos.py\n",
    "# Percorrendo um conjunto\n",
    "for numero in conjunto_numeros:\n",
    "    print(numero)\n",
    "\n",
    "# Exemplo da vida real:\n",
    "# Chamando os ganhadores de uma rifa:\n",
    "ganhadores = {\"Alice\", \"Bob\", \"Charlie\"}\n",
    "for ganhador in ganhadores:\n",
    "    print(f\"Parabéns, {ganhador}!\")"
   ]
  },
  {
   "cell_type": "code",
   "execution_count": 27,
   "metadata": {},
   "outputs": [
    {
     "name": "stdout",
     "output_type": "stream",
     "text": [
      "Presente: Ana\n",
      "Presente: Maria\n",
      "Presente: João\n",
      "Presente: Pedro\n"
     ]
    }
   ],
   "source": [
    "# 02_iterar_conjuntos.py\n",
    "# Percorrer todos os elementos do conjunto\n",
    "# Exemplo: Fazer chamada dos alunos\n",
    "\n",
    "alunos = {\"Maria\", \"João\", \"Pedro\", \"Ana\"}\n",
    "for aluno in alunos:\n",
    "    print(f\"Presente: {aluno}\")"
   ]
  },
  {
   "cell_type": "code",
   "execution_count": 32,
   "metadata": {},
   "outputs": [
    {
     "name": "stdout",
     "output_type": "stream",
     "text": [
      "{'Ana', 'Maria', 'João', 'Pedro', 'Lucas'}\n"
     ]
    }
   ],
   "source": [
    "# 03_union.py\n",
    "# União de conjuntos\n",
    "# Exemplo: Alunos que fazem inglês ou espanhol\n",
    "\n",
    "alunos_ingles = {\"Maria\", \"João\", \"Pedro\"}\n",
    "alunos_espanhol = {\"Ana\", \"João\", \"Lucas\"}\n",
    "todos_alunos = alunos_ingles.union(alunos_espanhol)\n",
    "# ou: todos_alunos = alunos_ingles | alunos_espanhol\n",
    "print(todos_alunos)  # {'Maria', 'João', 'Pedro', 'Ana', 'Lucas'}"
   ]
  },
  {
   "cell_type": "code",
   "execution_count": 31,
   "metadata": {},
   "outputs": [
    {
     "name": "stdout",
     "output_type": "stream",
     "text": [
      "{'João'}\n"
     ]
    }
   ],
   "source": [
    "# 04_intersection.py\n",
    "# Interseção de conjuntos\n",
    "# Exemplo: Alunos que fazem ambos os idiomas\n",
    "\n",
    "alunos_ambos = alunos_ingles.intersection(alunos_espanhol)\n",
    "# ou: alunos_ambos = alunos_ingles & alunos_espanhol\n",
    "print(alunos_ambos)  # {'João'}\n"
   ]
  },
  {
   "cell_type": "code",
   "execution_count": 30,
   "metadata": {},
   "outputs": [
    {
     "name": "stdout",
     "output_type": "stream",
     "text": [
      "{'Maria', 'Pedro'}\n"
     ]
    }
   ],
   "source": [
    "# 05_difference.py\n",
    "# Diferença entre conjuntos\n",
    "# Exemplo: Alunos que fazem apenas inglês\n",
    "\n",
    "apenas_ingles = alunos_ingles.difference(alunos_espanhol)\n",
    "# ou: apenas_ingles = alunos_ingles - alunos_espanhol\n",
    "print(apenas_ingles)  # {'Maria', 'Pedro'}\n"
   ]
  },
  {
   "cell_type": "code",
   "execution_count": 29,
   "metadata": {},
   "outputs": [
    {
     "name": "stdout",
     "output_type": "stream",
     "text": [
      "{'Ana', 'Maria', 'Pedro', 'Lucas'}\n"
     ]
    }
   ],
   "source": [
    "# 06_symmetric_difference.py\n",
    "# Diferença simétrica (elementos que estão em um ou outro conjunto, mas não em ambos)\n",
    "# Exemplo: Alunos que fazem apenas um idioma\n",
    "\n",
    "um_idioma = alunos_ingles.symmetric_difference(alunos_espanhol)\n",
    "# ou: um_idioma = alunos_ingles ^ alunos_espanhol\n",
    "print(um_idioma)  # {'Maria', 'Pedro', 'Ana', 'Lucas'}\n",
    "\n"
   ]
  },
  {
   "cell_type": "code",
   "execution_count": 33,
   "metadata": {},
   "outputs": [
    {
     "name": "stdout",
     "output_type": "stream",
     "text": [
      "True\n"
     ]
    }
   ],
   "source": [
    "# 07_issubset.py\n",
    "# Verifica se um conjunto é subconjunto de outro\n",
    "# Exemplo: Verificar se todos os alunos de matemática básica também fazem matemática avançada\n",
    "\n",
    "mat_basica = {\"Maria\", \"João\"}\n",
    "mat_avancada = {\"Maria\", \"João\", \"Pedro\", \"Ana\"}\n",
    "print(mat_basica.issubset(mat_avancada))  # True\n"
   ]
  },
  {
   "cell_type": "code",
   "execution_count": 34,
   "metadata": {},
   "outputs": [
    {
     "name": "stdout",
     "output_type": "stream",
     "text": [
      "True\n"
     ]
    }
   ],
   "source": [
    "# 08_issuperset.py\n",
    "# Verifica se um conjunto contém outro conjunto\n",
    "# Exemplo: Verificar se todos os alunos de matemática básica estão na lista geral\n",
    "\n",
    "todos_alunos = {\"Maria\", \"João\", \"Pedro\", \"Ana\", \"Lucas\"}\n",
    "alunos_basico = {\"Maria\", \"João\"}\n",
    "print(todos_alunos.issuperset(alunos_basico))  # True\n"
   ]
  },
  {
   "cell_type": "code",
   "execution_count": 35,
   "metadata": {},
   "outputs": [
    {
     "name": "stdout",
     "output_type": "stream",
     "text": [
      "True\n"
     ]
    }
   ],
   "source": [
    "# 09_isdisjoint.py\n",
    "# Verifica se dois conjuntos não têm elementos em comum\n",
    "# Exemplo: Verificar se não há alunos em comum entre turma da manhã e noite\n",
    "\n",
    "turma_manha = {\"Maria\", \"João\"}\n",
    "turma_noite = {\"Pedro\", \"Ana\"}\n",
    "print(turma_manha.isdisjoint(turma_noite))  # True\n"
   ]
  },
  {
   "cell_type": "code",
   "execution_count": 36,
   "metadata": {},
   "outputs": [
    {
     "name": "stdout",
     "output_type": "stream",
     "text": [
      "{'Maria', 'João', 'Pedro'}\n"
     ]
    }
   ],
   "source": [
    "# 10_add.py\n",
    "# Adiciona um elemento ao conjunto\n",
    "# Exemplo: Matricular novo aluno\n",
    "\n",
    "alunos = {\"Maria\", \"João\"}\n",
    "alunos.add(\"Pedro\")\n",
    "print(alunos)  # {'Maria', 'João', 'Pedro'}"
   ]
  },
  {
   "cell_type": "code",
   "execution_count": 37,
   "metadata": {},
   "outputs": [
    {
     "name": "stdout",
     "output_type": "stream",
     "text": [
      "set()\n"
     ]
    }
   ],
   "source": [
    "# 11_clear.py\n",
    "# Remove todos os elementos do conjunto\n",
    "# Exemplo: Limpar lista de presença\n",
    "\n",
    "presentes = {\"Maria\", \"João\", \"Pedro\"}\n",
    "presentes.clear()\n",
    "print(presentes)  # set()\n"
   ]
  },
  {
   "cell_type": "code",
   "execution_count": 38,
   "metadata": {},
   "outputs": [
    {
     "name": "stdout",
     "output_type": "stream",
     "text": [
      "{'Maria', 'João', 'Pedro'}\n"
     ]
    }
   ],
   "source": [
    "# 12_copy.py\n",
    "# Cria uma cópia do conjunto\n",
    "# Exemplo: Fazer backup da lista de alunos\n",
    "\n",
    "alunos = {\"Maria\", \"João\", \"Pedro\"}\n",
    "backup_alunos = alunos.copy()\n",
    "print(backup_alunos)  # {'Maria', 'João', 'Pedro'}\n"
   ]
  },
  {
   "cell_type": "code",
   "execution_count": 39,
   "metadata": {},
   "outputs": [
    {
     "name": "stdout",
     "output_type": "stream",
     "text": [
      "{'Maria', 'Pedro'}\n"
     ]
    }
   ],
   "source": [
    "# 13_discard.py\n",
    "# Remove um elemento se existir (não gera erro se não existir)\n",
    "# Exemplo: Remover aluno que trancou matrícula\n",
    "\n",
    "alunos = {\"Maria\", \"João\", \"Pedro\"}\n",
    "alunos.discard(\"João\")\n",
    "alunos.discard(\"Lucas\")  # não gera erro\n",
    "print(alunos)  # {'Maria', 'Pedro'}"
   ]
  },
  {
   "cell_type": "code",
   "execution_count": 40,
   "metadata": {},
   "outputs": [
    {
     "name": "stdout",
     "output_type": "stream",
     "text": [
      "Aluno sorteado: Maria\n",
      "Alunos restantes: {'João', 'Pedro'}\n"
     ]
    }
   ],
   "source": [
    "# 14_pop.py\n",
    "# Remove e retorna um elemento arbitrário\n",
    "# Exemplo: Selecionar um aluno aleatório para apresentar trabalho\n",
    "\n",
    "alunos = {\"Maria\", \"João\", \"Pedro\"}\n",
    "sorteado = alunos.pop()\n",
    "print(f\"Aluno sorteado: {sorteado}\")\n",
    "print(f\"Alunos restantes: {alunos}\")\n"
   ]
  },
  {
   "cell_type": "code",
   "execution_count": 41,
   "metadata": {},
   "outputs": [
    {
     "name": "stdout",
     "output_type": "stream",
     "text": [
      "{'Maria', 'Pedro'}\n"
     ]
    }
   ],
   "source": [
    "# 15_remove.py\n",
    "# Remove um elemento (gera erro se não existir)\n",
    "# Exemplo: Remover aluno que se formou\n",
    "\n",
    "alunos = {\"Maria\", \"João\", \"Pedro\"}\n",
    "alunos.remove(\"João\")  # se João não existisse, geraria erro\n",
    "print(alunos)  # {'Maria', 'Pedro'}"
   ]
  },
  {
   "cell_type": "code",
   "execution_count": 42,
   "metadata": {},
   "outputs": [
    {
     "name": "stdout",
     "output_type": "stream",
     "text": [
      "Total de alunos: 3\n"
     ]
    }
   ],
   "source": [
    "# 16_len.py\n",
    "# Retorna o número de elementos no conjunto\n",
    "# Exemplo: Contar número de alunos matriculados\n",
    "\n",
    "alunos = {\"Maria\", \"João\", \"Pedro\"}\n",
    "total_alunos = len(alunos)\n",
    "print(f\"Total de alunos: {total_alunos}\")  # 3"
   ]
  },
  {
   "cell_type": "code",
   "execution_count": 43,
   "metadata": {},
   "outputs": [
    {
     "name": "stdout",
     "output_type": "stream",
     "text": [
      "Maria está presente\n",
      "Lucas não está presente\n"
     ]
    }
   ],
   "source": [
    "# 17_in.py\n",
    "# Verifica se um elemento está no conjunto\n",
    "# Exemplo: Verificar se aluno está presente\n",
    "\n",
    "alunos = {\"Maria\", \"João\", \"Pedro\"}\n",
    "if \"Maria\" in alunos:\n",
    "    print(\"Maria está presente\")\n",
    "if \"Lucas\" not in alunos:\n",
    "    print(\"Lucas não está presente\")"
   ]
  },
  {
   "cell_type": "code",
   "execution_count": null,
   "metadata": {},
   "outputs": [],
   "source": []
  }
 ],
 "metadata": {
  "kernelspec": {
   "display_name": "Python 3",
   "language": "python",
   "name": "python3"
  },
  "language_info": {
   "codemirror_mode": {
    "name": "ipython",
    "version": 3
   },
   "file_extension": ".py",
   "mimetype": "text/x-python",
   "name": "python",
   "nbconvert_exporter": "python",
   "pygments_lexer": "ipython3",
   "version": "3.13.1"
  }
 },
 "nbformat": 4,
 "nbformat_minor": 2
}
